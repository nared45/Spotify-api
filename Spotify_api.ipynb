{
 "cells": [
  {
   "cell_type": "code",
   "execution_count": 1,
   "id": "49a0fcec",
   "metadata": {},
   "outputs": [],
   "source": [
    "import spotipy\n",
    "from spotipy.oauth2 import SpotifyClientCredentials"
   ]
  },
  {
   "cell_type": "code",
   "execution_count": 2,
   "id": "d935c2c2",
   "metadata": {},
   "outputs": [],
   "source": [
    "# connecting with spotify api\n",
    "auth_manager = SpotifyClientCredentials(client_id=\"02d2f026c9b948e191ada387e1e9dd14\",client_secret=\"d7d07307afb446b482c1293c0a8c5d04\")\n",
    "sp = spotipy.Spotify(auth_manager=auth_manager)"
   ]
  },
  {
   "cell_type": "code",
   "execution_count": 3,
   "id": "a1fabc43",
   "metadata": {},
   "outputs": [
    {
     "name": "stdout",
     "output_type": "stream",
     "text": [
      "Enter the Playlist Link: \n",
      "https://open.spotify.com/playlist/0KAKXZqNq08hit450AOwa0?si=541a8a1c6e6e47f6\n"
     ]
    }
   ],
   "source": [
    "# giving playlist link\n",
    "playlist_code = input(\"Enter the Playlist Link: \\n\")\n",
    "playlist_dict = sp.playlist(playlist_code)"
   ]
  },
  {
   "cell_type": "code",
   "execution_count": 4,
   "id": "4b149811",
   "metadata": {},
   "outputs": [],
   "source": [
    "no_of_songs = playlist_dict[\"tracks\"][\"total\"]\n",
    "\n",
    "album_list = []\n",
    "song_list = []\n",
    "release_date_list = []\n",
    "artists_list = []\n",
    "\n",
    "tracks = playlist_dict[\"tracks\"]\n",
    "items = tracks[\"items\"]"
   ]
  },
  {
   "cell_type": "code",
   "execution_count": 5,
   "id": "20d685ba",
   "metadata": {},
   "outputs": [],
   "source": [
    "offset=0\n",
    "i=0\n",
    "while i<no_of_songs:\n",
    "    song = items[i-offset][\"track\"][\"name\"]\n",
    "    album = items[i-offset][\"track\"][\"album\"][\"name\"]\n",
    "    release_date = items[i-offset][\"track\"][\"album\"][\"release_date\"]\n",
    "    artists = [k[\"name\"] for k in items[i-offset][\"track\"][\"artists\"]]\n",
    "    artists = ','.join(artists)\n",
    "    album_list.append(album)\n",
    "    song_list.append(song)\n",
    "    release_date_list.append(release_date)\n",
    "    artists_list.append(artists)\n",
    "    if (i+1)%100 == 0:\n",
    "        tracks = sp.next(tracks)\n",
    "        items = tracks[\"items\"]\n",
    "        offset = i+1\n",
    "    i+=1\n",
    "    \n",
    "final_data = list(zip(song_list,artists_list,album_list,release_date_list))"
   ]
  },
  {
   "cell_type": "code",
   "execution_count": 6,
   "id": "9263e41b",
   "metadata": {},
   "outputs": [],
   "source": [
    "# creating csv file\n",
    "import csv\n",
    "Details = [\"Name\",\"Artists\",\"Album\",\"Release Date\"]\n",
    "rows = final_data\n",
    "with open(\"final.csv\",'w', newline='') as f:\n",
    "    write = csv.writer(f)\n",
    "    write.writerow(Details)\n",
    "    write.writerows(rows)\n",
    "\n",
    "f.close()"
   ]
  },
  {
   "cell_type": "code",
   "execution_count": null,
   "id": "49197b76",
   "metadata": {},
   "outputs": [],
   "source": []
  }
 ],
 "metadata": {
  "kernelspec": {
   "display_name": "Python 3 (ipykernel)",
   "language": "python",
   "name": "python3"
  },
  "language_info": {
   "codemirror_mode": {
    "name": "ipython",
    "version": 3
   },
   "file_extension": ".py",
   "mimetype": "text/x-python",
   "name": "python",
   "nbconvert_exporter": "python",
   "pygments_lexer": "ipython3",
   "version": "3.10.4"
  }
 },
 "nbformat": 4,
 "nbformat_minor": 5
}
